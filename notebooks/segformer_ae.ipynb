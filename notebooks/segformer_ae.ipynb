{
 "cells": [
  {
   "cell_type": "markdown",
   "metadata": {},
   "source": [
    "<a href=\"https://colab.research.google.com/github/thesstefan/road_segmentation/blob/ae/notebooks/segformer_ae.ipynb\" target=\"_parent\"><img src=\"https://colab.research.google.com/assets/colab-badge.svg\" alt=\"Open In Colab\"/></a>"
   ]
  },
  {
   "cell_type": "markdown",
   "metadata": {},
   "source": [
    "- If you don't have one yet, create a [Github Personal Token](https://docs.github.com/en/authentication/keeping-your-account-and-data-secure/managing-your-personal-access-tokens) for the project, then add it in the `github_personal_token` field below.\n",
    "\n",
    "- Make sure you can mount the shared project GDrive so that experiments, logs\n",
    "and data are centralized. Add the project dir in `drive_dir` below."
   ]
  },
  {
   "cell_type": "code",
   "execution_count": 1,
   "metadata": {},
   "outputs": [],
   "source": [
    "# @title Github Personal Token\n",
    "\n",
    "github_personal_token = \"\" # @param {type:\"string\"}\n",
    "drive_dir = \"drive/MyDrive/CIL_road_segmentation\" # @param {type:\"string\"}\n",
    "branch = \"segformer\" # @param {type:\"string\"}\n",
    "model_dir = \"road_segformer_v1\" # @param {type:\"string\"}"
   ]
  },
  {
   "cell_type": "code",
   "execution_count": null,
   "metadata": {},
   "outputs": [],
   "source": [
    "![ ! -d 'road_segmentation' ] && \\\n",
    "    git clone -b {branch} \"https://{github_personal_token}@github.com/thesstefan/road_segmentation.git\""
   ]
  },
  {
   "cell_type": "code",
   "execution_count": null,
   "metadata": {},
   "outputs": [],
   "source": [
    "!cd road_segmentation && pip install ."
   ]
  },
  {
   "cell_type": "code",
   "execution_count": null,
   "metadata": {},
   "outputs": [],
   "source": [
    "!road_segmentation"
   ]
  },
  {
   "cell_type": "code",
   "execution_count": null,
   "metadata": {},
   "outputs": [],
   "source": [
    "%load_ext tensorboard\n",
    "%tensorboard --logdir {drive_dir}/{model_dir}/tb_logs"
   ]
  },
  {
   "cell_type": "code",
   "execution_count": 4,
   "metadata": {},
   "outputs": [
    {
     "name": "stdout",
     "output_type": "stream",
     "text": [
      "Traceback (most recent call last):\n",
      "  File \"/usr/local/bin/imputation_data_creation\", line 8, in <module>\n",
      "    sys.exit(main())\n",
      "  File \"/usr/local/lib/python3.10/site-packages/road_segmentation/cli/imputation_dataset_creation_cli.py\", line 88, in main\n",
      "    create_imputation_dataset(\n",
      "  File \"/usr/local/lib/python3.10/site-packages/road_segmentation/cli/imputation_dataset_creation_cli.py\", line 53, in create_imputation_dataset\n",
      "    model = RoadSegformer.load_from_checkpoint(\n",
      "  File \"/usr/local/lib/python3.10/site-packages/lightning/pytorch/utilities/model_helpers.py\", line 125, in wrapper\n",
      "    return self.method(cls, *args, **kwargs)\n",
      "  File \"/usr/local/lib/python3.10/site-packages/lightning/pytorch/core/module.py\", line 1581, in load_from_checkpoint\n",
      "    loaded = _load_from_checkpoint(\n",
      "  File \"/usr/local/lib/python3.10/site-packages/lightning/pytorch/core/saving.py\", line 63, in _load_from_checkpoint\n",
      "    checkpoint = pl_load(checkpoint_path, map_location=map_location)\n",
      "  File \"/usr/local/lib/python3.10/site-packages/lightning/fabric/utilities/cloud_io.py\", line 56, in _load\n",
      "    with fs.open(path_or_url, \"rb\") as f:\n",
      "  File \"/usr/local/lib/python3.10/site-packages/fsspec/spec.py\", line 1303, in open\n",
      "    f = self._open(\n",
      "  File \"/usr/local/lib/python3.10/site-packages/fsspec/implementations/local.py\", line 191, in _open\n",
      "    return LocalFileOpener(path, mode, fs=self, **kwargs)\n",
      "  File \"/usr/local/lib/python3.10/site-packages/fsspec/implementations/local.py\", line 355, in __init__\n",
      "    self._open()\n",
      "  File \"/usr/local/lib/python3.10/site-packages/fsspec/implementations/local.py\", line 360, in _open\n",
      "    self.f = open(self.path, mode=self.mode)\n",
      "FileNotFoundError: [Errno 2] No such file or directory: '/workspaces/road_segmentation/notebooks/../road_segmentation/model.model_ckpt/epoch=3-step=232.ckpt'\n"
     ]
    }
   ],
   "source": [
    "MODEL_CKPT = \"epoch=3-step=232.ckpt\"\n",
    "\n",
    "!imputation_data_creation \\\n",
    "    --model_ckpt_path \"{drive_dir}/{model_dir}/{MODEL_CKPT}\" \\\n",
    "    --dataset_dir \"{drive_dir}/dataset/ethz_cil/\" \\\n",
    "    --output_dir \"{drive_dir}/dataset/imputation/\" \\\n",
    "    --model \"segformer\" \\\n",
    "    "
   ]
  },
  {
   "cell_type": "code",
   "execution_count": 3,
   "metadata": {},
   "outputs": [
    {
     "name": "stdout",
     "output_type": "stream",
     "text": [
      "/usr/local/lib/python3.10/site-packages/pl_bolts/__init__.py:11: FutureWarning: In the future `np.object` will be defined as the corresponding NumPy scalar.\n",
      "  if not hasattr(numpy, tp_name):\n",
      "/usr/local/lib/python3.10/site-packages/pl_bolts/__init__.py:11: FutureWarning: In the future `np.bool` will be defined as the corresponding NumPy scalar.\n",
      "  if not hasattr(numpy, tp_name):\n",
      "/usr/local/lib/python3.10/site-packages/pl_bolts/models/self_supervised/amdim/amdim_module.py:34: UnderReviewWarning: The feature generate_power_seq is currently marked under review. The compatibility with other Lightning projects is not guaranteed and API may change at any time. The API and functionality may change without warning in future releases. More details: https://lightning-bolts.readthedocs.io/en/latest/stability.html\n",
      "  \"lr_options\": generate_power_seq(LEARNING_RATE_CIFAR, 11),\n",
      "/usr/local/lib/python3.10/site-packages/pl_bolts/models/self_supervised/amdim/amdim_module.py:93: UnderReviewWarning: The feature FeatureMapContrastiveTask is currently marked under review. The compatibility with other Lightning projects is not guaranteed and API may change at any time. The API and functionality may change without warning in future releases. More details: https://lightning-bolts.readthedocs.io/en/latest/stability.html\n",
      "  contrastive_task: Union[FeatureMapContrastiveTask] = FeatureMapContrastiveTask(\"01, 02, 11\"),\n",
      "/usr/local/lib/python3.10/site-packages/pl_bolts/losses/self_supervised_learning.py:228: UnderReviewWarning: The feature AmdimNCELoss is currently marked under review. The compatibility with other Lightning projects is not guaranteed and API may change at any time. The API and functionality may change without warning in future releases. More details: https://lightning-bolts.readthedocs.io/en/latest/stability.html\n",
      "  self.nce_loss = AmdimNCELoss(tclip)\n",
      "2024-07-12 07:16:58,210 :: pytorch_lightning.utilities.migration.utils :: INFO     :: Lightning automatically upgraded your loaded checkpoint from v0.9.0 to v1.9.0. To apply the upgrade to your files permanently, run `python -m pytorch_lightning.utilities.upgrade_checkpoint --file https:/pl-bolts-weights.s3.us-east-2.amazonaws.com/ae/ae-cifar10/checkpoints/epoch%3D96.ckpt`\n",
      "2024-07-12 07:16:58,303 :: pytorch_lightning.utilities.rank_zero :: INFO     :: GPU available: False, used: False\n",
      "2024-07-12 07:16:58,312 :: pytorch_lightning.utilities.rank_zero :: INFO     :: TPU available: False, using: 0 TPU cores\n",
      "2024-07-12 07:16:58,312 :: pytorch_lightning.utilities.rank_zero :: INFO     :: IPU available: False, using: 0 IPUs\n",
      "2024-07-12 07:16:58,312 :: pytorch_lightning.utilities.rank_zero :: INFO     :: HPU available: False, using: 0 HPUs\n",
      "2024-07-12 07:16:58,313 :: pytorch_lightning.loggers.tensorboard :: WARNING  :: Missing logger folder: ../road_segmentation/model.model_ckpt/tb_logs/AutoEncoder_Imputation\n",
      "2024-07-12 07:16:58,321 :: pytorch_lightning.callbacks.model_summary :: INFO     :: \n",
      "  | Name         | Type          | Params\n",
      "-----------------------------------------------\n",
      "0 | encoder      | ResNetEncoder | 11.2 M\n",
      "1 | decoder      | ResNetDecoder | 8.6 M \n",
      "2 | fc           | Linear        | 131 K \n",
      "3 | input_layer  | Conv2d        | 147   \n",
      "4 | output_layer | Conv2d        | 27    \n",
      "-----------------------------------------------\n",
      "19.9 M    Trainable params\n",
      "0         Non-trainable params\n",
      "19.9 M    Total params\n",
      "79.704    Total estimated model params size (MB)\n",
      "Epoch 0:  83%|████████████▌  | 5/6 [01:09<00:13, 13.88s/it, loss=0.688, v_num=0]\n",
      "Validation: 0it [00:00, ?it/s]\u001b[A\n",
      "Validation:   0%|                                         | 0/1 [00:00<?, ?it/s]\u001b[A\n",
      "Validation DataLoader 0:   0%|                            | 0/1 [00:00<?, ?it/s]\u001b[A\n",
      "Epoch 0: 100%|███████████████| 6/6 [01:12<00:00, 12.13s/it, loss=0.688, v_num=0]\u001b[A\n",
      "Epoch 1:  83%|████████████▌  | 5/6 [01:11<00:14, 14.31s/it, loss=0.614, v_num=0]\u001b[A\n",
      "Validation: 0it [00:00, ?it/s]\u001b[A\n",
      "Validation:   0%|                                         | 0/1 [00:00<?, ?it/s]\u001b[A\n",
      "Validation DataLoader 0:   0%|                            | 0/1 [00:00<?, ?it/s]\u001b[A\n",
      "Epoch 1: 100%|███████████████| 6/6 [01:14<00:00, 12.49s/it, loss=0.614, v_num=0]\u001b[A\n",
      "Epoch 2:  83%|████████████▌  | 5/6 [01:10<00:14, 14.11s/it, loss=0.583, v_num=0]\u001b[A\n",
      "Validation: 0it [00:00, ?it/s]\u001b[A\n",
      "Validation:   0%|                                         | 0/1 [00:00<?, ?it/s]\u001b[A\n",
      "Validation DataLoader 0:   0%|                            | 0/1 [00:00<?, ?it/s]\u001b[A\n",
      "Epoch 2: 100%|███████████████| 6/6 [01:14<00:00, 12.39s/it, loss=0.583, v_num=0]\u001b[A\n",
      "Epoch 3:  83%|████████████▌  | 5/6 [01:07<00:13, 13.53s/it, loss=0.565, v_num=0]\u001b[A\n",
      "Validation: 0it [00:00, ?it/s]\u001b[A\n",
      "Validation:   0%|                                         | 0/1 [00:00<?, ?it/s]\u001b[A\n",
      "Validation DataLoader 0:   0%|                            | 0/1 [00:00<?, ?it/s]\u001b[A\n",
      "Epoch 3: 100%|███████████████| 6/6 [01:11<00:00, 11.90s/it, loss=0.565, v_num=0]\u001b[A\n",
      "Epoch 4:  50%|███████▌       | 3/6 [00:38<00:38, 12.91s/it, loss=0.529, v_num=0]\u001b[A^C\n"
     ]
    }
   ],
   "source": [
    "!auto_encoder train \\\n",
    "        --dataset_dir \"{drive_dir}/dataset/imputation\" \\\n",
    "        --tb_logdir {drive_dir}/{model_dir}/tb_logs \\\n",
    "        --ckpt_save_dir {drive_dir}/{model_dir} \\\n",
    "        --epochs 50 "
   ]
  }
 ],
 "metadata": {
  "kernelspec": {
   "display_name": "Python 3",
   "language": "python",
   "name": "python3"
  },
  "language_info": {
   "codemirror_mode": {
    "name": "ipython",
    "version": 3
   },
   "file_extension": ".py",
   "mimetype": "text/x-python",
   "name": "python",
   "nbconvert_exporter": "python",
   "pygments_lexer": "ipython3",
   "version": "3.10.14"
  }
 },
 "nbformat": 4,
 "nbformat_minor": 2
}
