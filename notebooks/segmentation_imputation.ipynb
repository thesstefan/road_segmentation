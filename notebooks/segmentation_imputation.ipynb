{
 "cells": [
  {
   "cell_type": "markdown",
   "metadata": {},
   "source": [
    "<a href=\"https://colab.research.google.com/github/thesstefan/road_segmentation/blob/main/notebooks/segmentation_imputation.ipynb\" target=\"_parent\"><img src=\"https://colab.research.google.com/assets/colab-badge.svg\" alt=\"Open In Colab\"/></a>"
   ]
  },
  {
   "cell_type": "markdown",
   "metadata": {},
   "source": [
    "- If you don't have one yet, create a [Github Personal Token](https://docs.github.com/en/authentication/keeping-your-account-and-data-secure/managing-your-personal-access-tokens) for the project, then add it in the `github_personal_token` field below.\n",
    "\n",
    "- Make sure you can mount the shared project GDrive so that experiments, logs\n",
    "and data are centralized. Add the project dir in `drive_dir` below."
   ]
  },
  {
   "cell_type": "code",
   "execution_count": null,
   "metadata": {},
   "outputs": [],
   "source": [
    "# @title Github Personal Token\n",
    "\n",
    "github_personal_token = \"\" # @param {type:\"string\"}\n",
    "drive_dir = \"drive/MyDrive/CIL_road_segmentation\" # @param {type:\"string\"}\n",
    "branch = \"segformer\" # @param {type:\"string\"}\n",
    "model_dir = \"road_segformer_v1\" # @param {type:\"string\"}"
   ]
  },
  {
   "cell_type": "code",
   "execution_count": null,
   "metadata": {},
   "outputs": [],
   "source": [
    "![ ! -d 'road_segmentation' ] && \\\n",
    "    git clone -b {branch} \"https://{github_personal_token}@github.com/thesstefan/road_segmentation.git\""
   ]
  },
  {
   "cell_type": "code",
   "execution_count": null,
   "metadata": {},
   "outputs": [],
   "source": [
    "!cd road_segmentation && pip install ."
   ]
  },
  {
   "cell_type": "code",
   "execution_count": null,
   "metadata": {},
   "outputs": [],
   "source": [
    "!road_segmentation"
   ]
  },
  {
   "cell_type": "code",
   "execution_count": null,
   "metadata": {},
   "outputs": [],
   "source": [
    "%load_ext tensorboard\n",
    "%tensorboard --logdir {drive_dir}/{model_dir}/tb_logs"
   ]
  },
  {
   "cell_type": "code",
   "execution_count": null,
   "metadata": {},
   "outputs": [],
   "source": [
    "base_segmenter_ckpt =  \"\"\n",
    "imputer_ckpt = \"\"\n",
    "\n",
    "!seg_imputation --base_segmenter_ckpt \"{drive_dir}/{model_dir}/{base_segmenter_ckpt}\" \\\n",
    "    --imputer_ckpt \"{drive_dir}/{model_dir}/{imputer_ckpt}\" \\\n",
    "    --dataset_dir \"{drive_dir}/ethz_dataset/test\" \\\n",
    "    --prediction_output_dir \"{drive_dir}/prediction\""
   ]
  }
 ],
 "metadata": {
  "language_info": {
   "name": "python"
  }
 },
 "nbformat": 4,
 "nbformat_minor": 2
}
