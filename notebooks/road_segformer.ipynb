{
  "cells": [
    {
      "cell_type": "markdown",
      "metadata": {
        "id": "view-in-github",
        "colab_type": "text"
      },
      "source": [
        "<a href=\"https://colab.research.google.com/github/thesstefan/road_segmentation/blob/segformer/notebooks/road_segformer.ipynb\" target=\"_parent\"><img src=\"https://colab.research.google.com/assets/colab-badge.svg\" alt=\"Open In Colab\"/></a>"
      ]
    },
    {
      "cell_type": "markdown",
      "metadata": {
        "id": "aLxpBbT8uci7"
      },
      "source": [
        "- If you don't have one yet, create a [Github Personal Token](https://docs.github.com/en/authentication/keeping-your-account-and-data-secure/managing-your-personal-access-tokens) for the project, then add it in the `github_personal_token` field below.\n",
        "\n",
        "- Make sure you can mount the shared project GDrive so that experiments, logs\n",
        "and data are centralized. Add the project dir in `drive_dir` below."
      ]
    },
    {
      "cell_type": "code",
      "execution_count": null,
      "metadata": {
        "cellView": "form",
        "id": "EgQk4m2wFApp"
      },
      "outputs": [],
      "source": [
        "# @title Github Personal Token\n",
        "\n",
        "github_personal_token = \"\" # @param {type:\"string\"}\n",
        "drive_dir = \"drive/MyDrive/CIL_road_segmentation\" # @param {type:\"string\"}\n",
        "branch = \"segformer\" # @param {type:\"string\"}\n",
        "model_dir = \"road_segformer_v1\" # @param {type:\"string\"}"
      ]
    },
    {
      "cell_type": "code",
      "execution_count": null,
      "metadata": {
        "id": "MjK7ft25DVtv"
      },
      "outputs": [],
      "source": [
        "![ ! -d 'road_segmentation' ] && \\\n",
        "    git clone -b {branch} \"https://{github_personal_token}@github.com/thesstefan/road_segmentation.git\""
      ]
    },
    {
      "cell_type": "code",
      "execution_count": null,
      "metadata": {
        "id": "63sk2x-MIfD_"
      },
      "outputs": [],
      "source": [
        "!cd road_segmentation && pip install ."
      ]
    },
    {
      "cell_type": "code",
      "execution_count": null,
      "metadata": {
        "id": "JrsJg5aeHi98"
      },
      "outputs": [],
      "source": [
        "!road_segmentation"
      ]
    },
    {
      "cell_type": "code",
      "execution_count": null,
      "metadata": {
        "id": "XV6IzUFOdMdK"
      },
      "outputs": [],
      "source": [
        "%load_ext tensorboard\n",
        "%tensorboard --logdir {drive_dir}/{model_dir}/tb_logs"
      ]
    },
    {
      "cell_type": "code",
      "execution_count": null,
      "metadata": {
        "colab": {
          "background_save": true
        },
        "id": "n2FpVenaIKOa"
      },
      "outputs": [],
      "source": [
        "!road_segformer train \\\n",
        "                --dataset_dir {drive_dir}/ethz_dataset \\\n",
        "                --tb_logdir {drive_dir}/{model_dir}/tb_logs \\\n",
        "                --ckpt_save_dir {drive_dir}/{model_dir} \\\n",
        "                --train_val_split_ratio 0.6 \\\n",
        "                --metrics_interval 2"
      ]
    },
    {
      "cell_type": "code",
      "execution_count": null,
      "metadata": {
        "id": "HvE29oLjMOha"
      },
      "outputs": [],
      "source": [
        "MODEL_CKPT = \"epoch=3-step=232.ckpt\"\n",
        "\n",
        "!road_segformer predict \\\n",
        "    --model_ckpt_path \"{drive_dir}/{model_dir}/{MODEL_CKPT}\" \\\n",
        "    --ethz_input_dir \"{drive_dir}/ethz_dataset/test\" \\\n",
        "    --prediction_output_dir \"predicted\""
      ]
    }
  ],
  "metadata": {
    "accelerator": "GPU",
    "colab": {
      "gpuType": "T4",
      "provenance": [],
      "mount_file_id": "1KfKKzC6utOxlBSRczTrFmlfjiBz4hrLa",
      "authorship_tag": "ABX9TyPkxkSPiXTbrenSS+eWGUnS",
      "include_colab_link": true
    },
    "kernelspec": {
      "display_name": "Python 3",
      "name": "python3"
    },
    "language_info": {
      "name": "python"
    }
  },
  "nbformat": 4,
  "nbformat_minor": 0
}